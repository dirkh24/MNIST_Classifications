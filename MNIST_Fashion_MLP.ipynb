{
  "nbformat": 4,
  "nbformat_minor": 0,
  "metadata": {
    "colab": {
      "name": "MNIST_Fashion_MLP.ipynb",
      "version": "0.3.2",
      "provenance": [],
      "include_colab_link": true
    },
    "kernelspec": {
      "name": "python3",
      "display_name": "Python 3"
    }
  },
  "cells": [
    {
      "cell_type": "markdown",
      "metadata": {
        "id": "view-in-github",
        "colab_type": "text"
      },
      "source": [
        "<a href=\"https://colab.research.google.com/github/dirkh24/MNIST_Classifications/blob/master/MNIST_Fashion_MLP.ipynb\" target=\"_parent\"><img src=\"https://colab.research.google.com/assets/colab-badge.svg\" alt=\"Open In Colab\"/></a>"
      ]
    },
    {
      "metadata": {
        "id": "xcnW4tjf1m-b",
        "colab_type": "text"
      },
      "cell_type": "markdown",
      "source": [
        "MNIST Example"
      ]
    },
    {
      "metadata": {
        "id": "72iM7snz1ozX",
        "colab_type": "code",
        "colab": {
          "base_uri": "https://localhost:8080/",
          "height": 34
        },
        "outputId": "4f45a57f-2e68-4b61-c117-3b01c64bbf29"
      },
      "cell_type": "code",
      "source": [
        "import numpy as np\n",
        "from keras.layers import Dense, Dropout\n",
        "from keras import Sequential"
      ],
      "execution_count": 1,
      "outputs": [
        {
          "output_type": "stream",
          "text": [
            "Using TensorFlow backend.\n"
          ],
          "name": "stderr"
        }
      ]
    },
    {
      "metadata": {
        "id": "UHWgYHky2Tcs",
        "colab_type": "code",
        "colab": {}
      },
      "cell_type": "code",
      "source": [
        "# Import MNIST fashion example\n",
        "from keras.datasets import fashion_mnist\n",
        "(x_train, y_train), (x_test, y_test) = fashion_mnist.load_data()"
      ],
      "execution_count": 0,
      "outputs": []
    },
    {
      "metadata": {
        "id": "fYMgzgAh2pV0",
        "colab_type": "code",
        "colab": {
          "base_uri": "https://localhost:8080/",
          "height": 34
        },
        "outputId": "97dfa739-7260-4ef8-c6ee-2afad9954823"
      },
      "cell_type": "code",
      "source": [
        "x_train.shape"
      ],
      "execution_count": 3,
      "outputs": [
        {
          "output_type": "execute_result",
          "data": {
            "text/plain": [
              "(60000, 28, 28)"
            ]
          },
          "metadata": {
            "tags": []
          },
          "execution_count": 3
        }
      ]
    },
    {
      "metadata": {
        "id": "S03b5a_52tvt",
        "colab_type": "code",
        "colab": {}
      },
      "cell_type": "code",
      "source": [
        "x_train = x_train.astype(np.float32)\n",
        "x_test = x_test.astype(np.float32)\n"
      ],
      "execution_count": 0,
      "outputs": []
    },
    {
      "metadata": {
        "id": "nCVqdlbF4eos",
        "colab_type": "code",
        "colab": {}
      },
      "cell_type": "code",
      "source": [
        "# preprocessing the input data\n",
        "X_train = x_train / 255\n",
        "X_test = x_test / 255\n",
        "\n",
        "X_train = X_train.reshape(-1,28*28)\n",
        "X_test = X_test.reshape(-1,28*28)"
      ],
      "execution_count": 0,
      "outputs": []
    },
    {
      "metadata": {
        "id": "pCHW3rwE3EoG",
        "colab_type": "code",
        "colab": {}
      },
      "cell_type": "code",
      "source": [
        "from keras.utils import to_categorical"
      ],
      "execution_count": 0,
      "outputs": []
    },
    {
      "metadata": {
        "id": "4S_u4wYg4H8A",
        "colab_type": "code",
        "colab": {}
      },
      "cell_type": "code",
      "source": [
        "Y_train = to_categorical(y_train)\n",
        "Y_test = to_categorical(y_test)\n"
      ],
      "execution_count": 0,
      "outputs": []
    },
    {
      "metadata": {
        "id": "AwBGpQVq4Xkh",
        "colab_type": "code",
        "colab": {}
      },
      "cell_type": "code",
      "source": [
        "# Multilayer Perceptron (MLP) for multi-class softmax classification \n",
        "model = Sequential()\n",
        "# Dense(64) is a fully-connected layer with 64 hidden units.\n",
        "# in the first layer, you must specify the expected input data shape:\n",
        "# here, 20-dimensional vectors.\n",
        "model.add(Dense(256, activation='relu', input_shape=(28*28,)))\n",
        "model.add(Dropout(0.2))\n",
        "model.add(Dense(128, activation='relu'))\n",
        "model.add(Dropout(0.2))\n",
        "model.add(Dense(10, activation='softmax'))"
      ],
      "execution_count": 0,
      "outputs": []
    },
    {
      "metadata": {
        "id": "7TWPlw1k5C0v",
        "colab_type": "code",
        "colab": {
          "base_uri": "https://localhost:8080/",
          "height": 316
        },
        "outputId": "ff5051a9-da23-4165-db37-b02532cc28f1"
      },
      "cell_type": "code",
      "source": [
        "model.summary()"
      ],
      "execution_count": 9,
      "outputs": [
        {
          "output_type": "stream",
          "text": [
            "_________________________________________________________________\n",
            "Layer (type)                 Output Shape              Param #   \n",
            "=================================================================\n",
            "dense_1 (Dense)              (None, 256)               200960    \n",
            "_________________________________________________________________\n",
            "dropout_1 (Dropout)          (None, 256)               0         \n",
            "_________________________________________________________________\n",
            "dense_2 (Dense)              (None, 128)               32896     \n",
            "_________________________________________________________________\n",
            "dropout_2 (Dropout)          (None, 128)               0         \n",
            "_________________________________________________________________\n",
            "dense_3 (Dense)              (None, 10)                1290      \n",
            "=================================================================\n",
            "Total params: 235,146\n",
            "Trainable params: 235,146\n",
            "Non-trainable params: 0\n",
            "_________________________________________________________________\n"
          ],
          "name": "stdout"
        }
      ]
    },
    {
      "metadata": {
        "id": "c3nV1Xds50bQ",
        "colab_type": "code",
        "colab": {}
      },
      "cell_type": "code",
      "source": [
        "model.compile(optimizer='rmsprop',loss='categorical_crossentropy',metrics=['accuracy'])"
      ],
      "execution_count": 0,
      "outputs": []
    },
    {
      "metadata": {
        "id": "0bWhA4zN7Dwd",
        "colab_type": "code",
        "colab": {
          "base_uri": "https://localhost:8080/",
          "height": 404
        },
        "outputId": "57a530f2-dfe7-4c70-9cd5-edbbf23ee296"
      },
      "cell_type": "code",
      "source": [
        "#model.fit(X_train, Y_train,epochs=10,batch_size=128)\n",
        "model.fit(X_train, Y_train,epochs=10,batch_size=128,validation_split=0.2)"
      ],
      "execution_count": 11,
      "outputs": [
        {
          "output_type": "stream",
          "text": [
            "Train on 48000 samples, validate on 12000 samples\n",
            "Epoch 1/10\n",
            "48000/48000 [==============================] - 4s 92us/step - loss: 0.6195 - acc: 0.7792 - val_loss: 0.4343 - val_acc: 0.8417\n",
            "Epoch 2/10\n",
            "48000/48000 [==============================] - 4s 85us/step - loss: 0.4278 - acc: 0.8440 - val_loss: 0.3806 - val_acc: 0.8587\n",
            "Epoch 3/10\n",
            "48000/48000 [==============================] - 4s 84us/step - loss: 0.3874 - acc: 0.8584 - val_loss: 0.3865 - val_acc: 0.8642\n",
            "Epoch 4/10\n",
            "48000/48000 [==============================] - 4s 83us/step - loss: 0.3606 - acc: 0.8680 - val_loss: 0.3474 - val_acc: 0.8716\n",
            "Epoch 5/10\n",
            "48000/48000 [==============================] - 4s 85us/step - loss: 0.3450 - acc: 0.8748 - val_loss: 0.3394 - val_acc: 0.8805\n",
            "Epoch 6/10\n",
            "48000/48000 [==============================] - 4s 84us/step - loss: 0.3304 - acc: 0.8793 - val_loss: 0.3295 - val_acc: 0.8810\n",
            "Epoch 7/10\n",
            "48000/48000 [==============================] - 4s 83us/step - loss: 0.3212 - acc: 0.8819 - val_loss: 0.3336 - val_acc: 0.8828\n",
            "Epoch 8/10\n",
            "48000/48000 [==============================] - 4s 82us/step - loss: 0.3127 - acc: 0.8850 - val_loss: 0.3375 - val_acc: 0.8824\n",
            "Epoch 9/10\n",
            "48000/48000 [==============================] - 4s 82us/step - loss: 0.3021 - acc: 0.8888 - val_loss: 0.3266 - val_acc: 0.8849\n",
            "Epoch 10/10\n",
            "48000/48000 [==============================] - 4s 83us/step - loss: 0.2941 - acc: 0.8924 - val_loss: 0.3222 - val_acc: 0.8824\n"
          ],
          "name": "stdout"
        },
        {
          "output_type": "execute_result",
          "data": {
            "text/plain": [
              "<keras.callbacks.History at 0x7f205fcfd128>"
            ]
          },
          "metadata": {
            "tags": []
          },
          "execution_count": 11
        }
      ]
    },
    {
      "metadata": {
        "id": "zrDFdV1J7F3H",
        "colab_type": "code",
        "colab": {
          "base_uri": "https://localhost:8080/",
          "height": 52
        },
        "outputId": "bbad24cb-7fdb-4cc3-8425-7fd9d428ef1a"
      },
      "cell_type": "code",
      "source": [
        "score = model.evaluate(X_test, Y_test, batch_size=128)\n",
        "print(score)"
      ],
      "execution_count": 12,
      "outputs": [
        {
          "output_type": "stream",
          "text": [
            "10000/10000 [==============================] - 0s 28us/step\n",
            "[0.358658270072937, 0.875]\n"
          ],
          "name": "stdout"
        }
      ]
    },
    {
      "metadata": {
        "id": "Bu-474Jg9B-v",
        "colab_type": "code",
        "colab": {}
      },
      "cell_type": "code",
      "source": [
        "import matplotlib.pyplot as plt\n",
        "from random import randint"
      ],
      "execution_count": 0,
      "outputs": []
    },
    {
      "metadata": {
        "id": "zqgviR0q9Dk8",
        "colab_type": "code",
        "colab": {
          "base_uri": "https://localhost:8080/",
          "height": 382
        },
        "outputId": "d5a9f14f-9d1a-4f7f-b5a1-461756bb3522"
      },
      "cell_type": "code",
      "source": [
        "number = randint(0,len(x_test))\n",
        "labels = ['T-shirt/top','Trouser','Pullover','Dress','Coat','Sandal','Shirt','Sneaker','Bag','Ankle boot']\n",
        "predictions = model.predict(X_test[number].reshape(1,28*28))\n",
        "print(\"Modelprediction: \" + labels[predictions.argmax()])\n",
        "plt.imshow(x_test[number],cmap='gray_r')"
      ],
      "execution_count": 26,
      "outputs": [
        {
          "output_type": "stream",
          "text": [
            "Modelprediction: Trouser\n"
          ],
          "name": "stdout"
        },
        {
          "output_type": "execute_result",
          "data": {
            "text/plain": [
              "<matplotlib.image.AxesImage at 0x7f2028616ba8>"
            ]
          },
          "metadata": {
            "tags": []
          },
          "execution_count": 26
        },
        {
          "output_type": "display_data",
          "data": {
            "image/png": "[encoded data removed]",
            "text/plain": [
              "<matplotlib.figure.Figure at 0x7f20286846a0>"
            ]
          },
          "metadata": {
            "tags": []
          }
        }
      ]
    },
    {
      "metadata": {
        "id": "6gcjJEvMQDz_",
        "colab_type": "code",
        "colab": {}
      },
      "cell_type": "code",
      "source": [
        ""
      ],
      "execution_count": 0,
      "outputs": []
    }
  ]
}